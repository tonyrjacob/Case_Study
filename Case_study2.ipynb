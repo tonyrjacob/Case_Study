{
 "cells": [
  {
   "cell_type": "markdown",
   "id": "02d44bce",
   "metadata": {},
   "source": [
    "## Case Study 1"
   ]
  },
  {
   "cell_type": "markdown",
   "id": "23b82f6b",
   "metadata": {},
   "source": [
    "1. ABCD is a parallelogram. A is (—1,2,1), B is (2,0, —1), and D is (3,1, 4). Using numpy.array in\n",
    "Python,\n",
    "\n",
    "a. Find the coordinates of C.\n",
    "\n",
    "b. Calculate the angle A.\n",
    "\n",
    "c. Calculate the area of the parallelogram."
   ]
  },
  {
   "cell_type": "code",
   "execution_count": 1,
   "id": "29bcb8f3",
   "metadata": {},
   "outputs": [],
   "source": [
    "#to find C cordinate, Given points A,B and D w/position vectors A(-1,2,1), B(2,0,-1) and D(3,1,4). Find vectors AB and AD then find point C with position vector c such that ABCD is a parallelogram.\n",
    "\n",
    "#Use the same method no matter how many coordinates. Treat  a ,  b , and  d  as vectors themselves. (They’re the heads of vectors whose tails are at the origin.) Then"
   ]
  },
  {
   "cell_type": "code",
   "execution_count": 18,
   "id": "c83083fa",
   "metadata": {},
   "outputs": [],
   "source": [
    "import numpy as np\n",
    "A=np.array([-1,2,1])\n",
    "B=np.array([2,0,-1])\n",
    "D=np.array([3,1,4])"
   ]
  },
  {
   "cell_type": "code",
   "execution_count": 19,
   "id": "699c59a3",
   "metadata": {},
   "outputs": [
    {
     "data": {
      "text/plain": [
       "array([ 6, -1,  2])"
      ]
     },
     "execution_count": 19,
     "metadata": {},
     "output_type": "execute_result"
    }
   ],
   "source": [
    "#a. Find the coordinates of C.\n",
    "C=-A+B+D\n",
    "C "
   ]
  },
  {
   "cell_type": "code",
   "execution_count": 20,
   "id": "1396b672",
   "metadata": {},
   "outputs": [
    {
     "name": "stdout",
     "output_type": "stream",
     "text": [
      "The Angle A is 1.180436502424873 radians\n"
     ]
    }
   ],
   "source": [
    "#b. Calculate the angle A.\n",
    "A_B = B-A\n",
    "A_D = D-A\n",
    "B_C = C-B\n",
    "D_C = C-D\n",
    "\n",
    "Dot_Product = np.dot(A_B,A_D)\n",
    "Magnitude = (np.linalg.norm(A_B))*(np.linalg.norm(A_D))\n",
    "Angle_A = np.arccos(Dot_Product/Magnitude)\n",
    "print(\"The Angle A is\",Angle_A,\"radians\")"
   ]
  },
  {
   "cell_type": "code",
   "execution_count": 21,
   "id": "97b8fcc3",
   "metadata": {},
   "outputs": [
    {
     "name": "stdout",
     "output_type": "stream",
     "text": [
      "the area of the parallelogram = 19.44222209522358\n"
     ]
    }
   ],
   "source": [
    "#c. Calculate the area of the parallelogram.\n",
    "vector_u=A-B\n",
    "vector_v=A-C\n",
    "Area=np.cross(vector_u,vector_v)\n",
    "\n",
    "#take the magnitude of the vector Area\n",
    "magnitude = np.linalg.norm(Area)\n",
    "print(\"the area of the parallelogram =\",magnitude)"
   ]
  },
  {
   "cell_type": "markdown",
   "id": "d6293c06",
   "metadata": {},
   "source": [
    "2. A car rental company owns 150 vehicles in total, including x of model X, y of model Y, and z of\n",
    "model Z. In yard A there are 46 vehicles including 20% of the model X fleet,40% of the model Y\n",
    "fleet, and 30% of the model Z fleet. In yard B there are 54 vehicles including 40% of the model X\n",
    "fleet, 20% of the model Y fleet, and 50% of the model Z fleet. How many vehicles of each type\n",
    "does the rental company have? You are required to use Python and Matrix form to find the\n",
    "answer."
   ]
  },
  {
   "cell_type": "code",
   "execution_count": 22,
   "id": "6de55330",
   "metadata": {},
   "outputs": [],
   "source": [
    "import numpy as np\n",
    "#total=150\n",
    "#A=46\n",
    "#B=56\n",
    "#total=x+y+z\n",
    "#A=(0.2*x)+(0.4*y)+(0.3*z)\n",
    "#B=(0.4*x)+(0.2*y)+(0.5*z)\n",
    "#these are the three linear equations"
   ]
  },
  {
   "cell_type": "code",
   "execution_count": 23,
   "id": "d02bc10e",
   "metadata": {},
   "outputs": [],
   "source": [
    "#using numpy we create matrix as follows\n",
    "a=np.array([[1,1,1],[0.2,0.4,0.3],[0.4,0.2,0.5]])\n",
    "b=np.array([150,46,54])\n",
    "k=np.array([\"x\",\"y\",\"z\"])\n",
    "#here we will have as\n",
    "#ak=b\n",
    "#k=a'b where a' is adj(a)\n",
    "#using numpy it has a predefined function known as np.linalg.solve() which does this math as defined above."
   ]
  },
  {
   "cell_type": "code",
   "execution_count": 24,
   "id": "6a7a8cad",
   "metadata": {},
   "outputs": [
    {
     "name": "stdout",
     "output_type": "stream",
     "text": [
      "The owner has cars ads folllows\n",
      "Model X cars = 45 \n",
      "Model Y cars = 55 \n",
      "Model Z cars= 50\n"
     ]
    }
   ],
   "source": [
    "z=np.linalg.solve(a,b)\n",
    "print(\"The owner has cars ads folllows\\nModel X cars =\",round(z[0]),\"\\nModel Y cars =\",round(z[1]),\"\\nModel Z cars=\",round(z[2]))"
   ]
  },
  {
   "cell_type": "code",
   "execution_count": null,
   "id": "f0630eee",
   "metadata": {},
   "outputs": [],
   "source": []
  },
  {
   "cell_type": "markdown",
   "id": "83416330",
   "metadata": {},
   "source": [
    "3. Refer to Brownlee (2018)[1], using random number generator to generate two 3x3x3 tensors\n",
    "(set seed to 99) and perform tensor addition, tensor subtraction, tensor Hadamard product and\n",
    "tensor product respectively."
   ]
  },
  {
   "cell_type": "code",
   "execution_count": 25,
   "id": "2249ce36",
   "metadata": {},
   "outputs": [],
   "source": [
    "import random"
   ]
  },
  {
   "cell_type": "code",
   "execution_count": 26,
   "id": "f010107d",
   "metadata": {},
   "outputs": [],
   "source": [
    "A=random.seed(99)\n",
    "A=np.random.random((3,3,3))\n",
    "A=np.array(A)\n",
    "B=random.seed(99)\n",
    "B=np.random.random((3,3,3))\n",
    "B=np.array(B)"
   ]
  },
  {
   "cell_type": "code",
   "execution_count": 27,
   "id": "b6623fec",
   "metadata": {},
   "outputs": [
    {
     "name": "stdout",
     "output_type": "stream",
     "text": [
      "A= [[[0.33436642 0.13179212 0.24313104]\n",
      "  [0.10938043 0.48591106 0.67528866]\n",
      "  [0.3653256  0.10039253 0.91534143]]\n",
      "\n",
      " [[0.2775101  0.74451042 0.25775298]\n",
      "  [0.89114705 0.45078932 0.27997629]\n",
      "  [0.0434477  0.15708175 0.62204209]]\n",
      "\n",
      " [[0.41131101 0.18284788 0.58624445]\n",
      "  [0.19011501 0.46907335 0.3124237 ]\n",
      "  [0.02485108 0.25008958 0.72414052]]]\n",
      "\n",
      "B= [[[0.50404458 0.85055876 0.02056823]\n",
      "  [0.15260643 0.34374029 0.66462164]\n",
      "  [0.04142279 0.43700227 0.54933715]]\n",
      "\n",
      " [[0.450197   0.7829823  0.44674715]\n",
      "  [0.96291493 0.96511601 0.38259564]\n",
      "  [0.45743102 0.94200645 0.09784137]]\n",
      "\n",
      " [[0.86726258 0.23840319 0.5377777 ]\n",
      "  [0.21768339 0.37187226 0.52190476]\n",
      "  [0.77376915 0.67058523 0.21418008]]]\n"
     ]
    }
   ],
   "source": [
    "print(\"A=\",A)\n",
    "print()\n",
    "print(\"B=\",B)"
   ]
  },
  {
   "cell_type": "code",
   "execution_count": 28,
   "id": "f01ebf43",
   "metadata": {},
   "outputs": [
    {
     "name": "stdout",
     "output_type": "stream",
     "text": [
      "The tensor addition for two random A and B 3x3x3 matrix are\n",
      "\n",
      " [[[0.838411   0.98235088 0.26369927]\n",
      "  [0.26198685 0.82965134 1.3399103 ]\n",
      "  [0.40674839 0.5373948  1.46467858]]\n",
      "\n",
      " [[0.7277071  1.52749273 0.70450013]\n",
      "  [1.85406199 1.41590534 0.66257193]\n",
      "  [0.50087872 1.0990882  0.71988347]]\n",
      "\n",
      " [[1.27857359 0.42125106 1.12402214]\n",
      "  [0.4077984  0.84094561 0.83432845]\n",
      "  [0.79862023 0.92067481 0.9383206 ]]]\n"
     ]
    }
   ],
   "source": [
    "#tensor addition\n",
    "Sum=A+B\n",
    "print(\"The tensor addition for two random A and B 3x3x3 matrix are\\n\\n\",Sum)"
   ]
  },
  {
   "cell_type": "code",
   "execution_count": 29,
   "id": "6d5daefb",
   "metadata": {},
   "outputs": [
    {
     "name": "stdout",
     "output_type": "stream",
     "text": [
      "the tensor substraction for two random A and B 3x3x3 matrix are\n",
      "\n",
      " [[[-0.16967816 -0.71876663  0.22256282]\n",
      "  [-0.043226    0.14217077  0.01066702]\n",
      "  [ 0.3239028  -0.33660974  0.36600428]]\n",
      "\n",
      " [[-0.1726869  -0.03847188 -0.18899416]\n",
      "  [-0.07176788 -0.51432669 -0.10261935]\n",
      "  [-0.41398332 -0.7849247   0.52420072]]\n",
      "\n",
      " [[-0.45595158 -0.05555531  0.04846675]\n",
      "  [-0.02756838  0.09720109 -0.20948106]\n",
      "  [-0.74891807 -0.42049565  0.50996044]]]\n"
     ]
    }
   ],
   "source": [
    "#tensor substraction\n",
    "Sub=A-B\n",
    "print(\"the tensor substraction for two random A and B 3x3x3 matrix are\\n\\n\",Sub)"
   ]
  },
  {
   "cell_type": "code",
   "execution_count": 30,
   "id": "15d0f360",
   "metadata": {},
   "outputs": [
    {
     "name": "stdout",
     "output_type": "stream",
     "text": [
      "the tensor hadamard product for two random A and B 3x3x3 matrix are\n",
      "\n",
      " [[[0.16853558 0.11209694 0.00500077]\n",
      "  [0.01669216 0.16702721 0.44881146]\n",
      "  [0.01513281 0.04387176 0.50283105]]\n",
      "\n",
      " [[0.12493421 0.58293849 0.11515041]\n",
      "  [0.85809881 0.43506399 0.10711771]\n",
      "  [0.01987432 0.14797202 0.06086145]]\n",
      "\n",
      " [[0.35671465 0.04359152 0.31526919]\n",
      "  [0.04138488 0.17443537 0.16305541]\n",
      "  [0.019229   0.16770638 0.15509647]]]\n"
     ]
    }
   ],
   "source": [
    "#tensor hadamard product\n",
    "Multiply=A*B\n",
    "print(\"the tensor hadamard product for two random A and B 3x3x3 matrix are\\n\\n\",Multiply)"
   ]
  },
  {
   "cell_type": "code",
   "execution_count": null,
   "id": "31593b6c",
   "metadata": {},
   "outputs": [],
   "source": []
  },
  {
   "cell_type": "markdown",
   "id": "98022d63",
   "metadata": {},
   "source": [
    "4. Refer to Kumar(2020)[2], using Keras and MNIST dataset, print the information about the tensor\n",
    "rank / axes and the shape of the train_images dataset."
   ]
  },
  {
   "cell_type": "code",
   "execution_count": 31,
   "id": "d57602c7",
   "metadata": {},
   "outputs": [],
   "source": [
    "import pandas as pd\n",
    "from tensorflow import keras\n",
    "from keras.datasets import mnist\n",
    "\n",
    "(train_images, train_labels), (test_images, test_labels) = mnist.load_data()"
   ]
  },
  {
   "cell_type": "code",
   "execution_count": 32,
   "id": "48b2139f",
   "metadata": {},
   "outputs": [
    {
     "data": {
      "text/plain": [
       "(60000, 28, 28)"
      ]
     },
     "execution_count": 32,
     "metadata": {},
     "output_type": "execute_result"
    }
   ],
   "source": [
    "train_images.shape"
   ]
  },
  {
   "cell_type": "code",
   "execution_count": 33,
   "id": "f66faf75",
   "metadata": {},
   "outputs": [
    {
     "data": {
      "text/plain": [
       "3"
      ]
     },
     "execution_count": 33,
     "metadata": {},
     "output_type": "execute_result"
    }
   ],
   "source": [
    "train_images.ndim"
   ]
  },
  {
   "cell_type": "markdown",
   "id": "825c45d5",
   "metadata": {},
   "source": [
    "The above code displays the fact that MNIST datset has axes 3 and shape of  60,000 matrices of 28×28 integers."
   ]
  },
  {
   "cell_type": "code",
   "execution_count": null,
   "id": "3da78720",
   "metadata": {},
   "outputs": [],
   "source": []
  },
  {
   "cell_type": "code",
   "execution_count": null,
   "id": "144d34c8",
   "metadata": {},
   "outputs": [],
   "source": []
  }
 ],
 "metadata": {
  "kernelspec": {
   "display_name": "Python 3 (ipykernel)",
   "language": "python",
   "name": "python3"
  },
  "language_info": {
   "codemirror_mode": {
    "name": "ipython",
    "version": 3
   },
   "file_extension": ".py",
   "mimetype": "text/x-python",
   "name": "python",
   "nbconvert_exporter": "python",
   "pygments_lexer": "ipython3",
   "version": "3.10.4"
  }
 },
 "nbformat": 4,
 "nbformat_minor": 5
}
